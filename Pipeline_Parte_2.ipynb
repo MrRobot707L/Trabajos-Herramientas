{
 "cells": [
  {
   "cell_type": "code",
   "execution_count": 1,
   "id": "29aa2496",
   "metadata": {},
   "outputs": [
    {
     "name": "stdout",
     "output_type": "stream",
     "text": [
      "✅ Todos los timestamps están en formato correcto.\n",
      "✅ Datos escritos exitosamente en la tabla 'global_land_temperatures_by_country' de PostgreSQL.\n",
      "✅ Datos escritos exitosamente en la tabla 'global_land_temperatures_by_country' de PostgreSQL.\n"
     ]
    }
   ],
   "source": [
    "# ============================================================================\n",
    "# PIPELINE 2: LECTURA, VALIDACIÓN Y CARGA DE DATOS EN POSTGRESQL\n",
    "# Archivo: GlobalLandTemperaturesByCountry.csv\n",
    "# ============================================================================\n",
    "\n",
    "# 1. Importar librerías necesarias\n",
    "import pandas as pd\n",
    "import os\n",
    "from sqlalchemy import create_engine\n",
    "from sqlalchemy.exc import SQLAlchemyError\n",
    "\n",
    "# 2. Definir la ruta del archivo CSV\n",
    "ruta_archivo = os.path.join('raw_data', 'GlobalLandTemperaturesByCountry.csv')\n",
    "\n",
    "# 3. Leer el archivo CSV en un DataFrame\n",
    "df = pd.read_csv(ruta_archivo)\n",
    "\n",
    "# 4. Verificar y convertir la columna de timestamp (primera columna) a datetime\n",
    "col_fecha = df.columns[0]\n",
    "df[col_fecha] = pd.to_datetime(df[col_fecha], errors='coerce')\n",
    "\n",
    "# Mostrar filas con problemas de conversión (si existen)\n",
    "filas_invalidas = df[df[col_fecha].isnull()]\n",
    "if not filas_invalidas.empty:\n",
    "    print(f\"❗ Filas con timestamp inválido: {len(filas_invalidas)}\")\n",
    "    display(filas_invalidas.head())\n",
    "else:\n",
    "    print(\"✅ Todos los timestamps están en formato correcto.\")\n",
    "\n",
    "# 5. Conexión a PostgreSQL (localhost, credenciales por defecto)\n",
    "usuario = 'postgres'\n",
    "clave = 'postgres'\n",
    "host = 'localhost'\n",
    "puerto = '5432'\n",
    "db = 'postgres'\n",
    "\n",
    "# Crear el string de conexión\n",
    "conexion_str = f'postgresql+psycopg2://{usuario}:{clave}@{host}:{puerto}/{db}'\n",
    "\n",
    "# 6. Escribir el DataFrame en PostgreSQL\n",
    "tabla_destino = 'global_land_temperatures_by_country'\n",
    "try:\n",
    "    engine = create_engine(conexion_str)\n",
    "    df.to_sql(tabla_destino, engine, if_exists='replace', index=False)\n",
    "    print(f\"✅ Datos escritos exitosamente en la tabla '{tabla_destino}' de PostgreSQL.\")\n",
    "except SQLAlchemyError as e:\n",
    "    print(f\"❌ Error al escribir en PostgreSQL: {e}\")\n"
   ]
  }
 ],
 "metadata": {
  "kernelspec": {
   "display_name": ".venv (3.13.8)",
   "language": "python",
   "name": "python3"
  },
  "language_info": {
   "codemirror_mode": {
    "name": "ipython",
    "version": 3
   },
   "file_extension": ".py",
   "mimetype": "text/x-python",
   "name": "python",
   "nbconvert_exporter": "python",
   "pygments_lexer": "ipython3",
   "version": "3.13.8"
  }
 },
 "nbformat": 4,
 "nbformat_minor": 5
}
